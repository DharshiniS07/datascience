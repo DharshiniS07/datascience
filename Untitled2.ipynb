{
  "nbformat": 4,
  "nbformat_minor": 0,
  "metadata": {
    "colab": {
      "provenance": []
    },
    "kernelspec": {
      "name": "python3",
      "display_name": "Python 3"
    },
    "language_info": {
      "name": "python"
    }
  },
  "cells": [
    {
      "cell_type": "code",
      "execution_count": null,
      "metadata": {
        "id": "I3Kve6X91qb4"
      },
      "outputs": [],
      "source": [
        "import pandas as pd\n",
        "import numpy as np\n",
        "import matplotlib.pyplot as plt\n"
      ]
    },
    {
      "cell_type": "code",
      "source": [
        "df = pd.read_csv(\"cartoon_datasets.zip\")\n",
        "print(df.head())"
      ],
      "metadata": {
        "colab": {
          "base_uri": "https://localhost:8080/"
        },
        "id": "1JK4-LPS3aY_",
        "outputId": "52c6c73d-dddb-4d4c-a268-7023fd2acd3f"
      },
      "execution_count": null,
      "outputs": [
        {
          "output_type": "stream",
          "name": "stdout",
          "text": [
            "                               Name         Span  \\\n",
            "0       Batman: The Animated Series  (1992–1995)   \n",
            "1                      Samurai Jack  (2001–2017)   \n",
            "2        Avatar: The Last Airbender  (2005–2008)   \n",
            "3                Total Drama Island  (2007–2014)   \n",
            "4  Scooby-Doo! Mystery Incorporated  (2010–2013)   \n",
            "\n",
            "                                         Description  Rating  \n",
            "0  The Dark Knight battles crime in Gotham City w...     9.0  \n",
            "1  A samurai, sent through time, fights to return...     8.5  \n",
            "2  In a war-torn world of elemental magic, a youn...     9.3  \n",
            "3  Animated satire of survivor reality shows feat...     7.4  \n",
            "4  This incarnation finds Scooby and the gang liv...     8.1  \n"
          ]
        }
      ]
    },
    {
      "cell_type": "code",
      "source": [
        "#identify the features\n",
        "features=df.columns\n",
        "print(features)"
      ],
      "metadata": {
        "id": "AGzjHB3g3afA",
        "colab": {
          "base_uri": "https://localhost:8080/"
        },
        "outputId": "bd98d0cc-e715-4b31-8a2b-4fa5fab65ed6"
      },
      "execution_count": null,
      "outputs": [
        {
          "output_type": "stream",
          "name": "stdout",
          "text": [
            "Index(['Name', 'Span', 'Description', 'Rating'], dtype='object')\n"
          ]
        }
      ]
    },
    {
      "cell_type": "code",
      "source": [
        "#identify the datatypes\n",
        "data_types=df.dtypes\n",
        "print(data_types)"
      ],
      "metadata": {
        "id": "0OXi0P8y3ar9",
        "colab": {
          "base_uri": "https://localhost:8080/"
        },
        "outputId": "b16d4aba-c3cf-4a33-afea-561cdfc6d444"
      },
      "execution_count": null,
      "outputs": [
        {
          "output_type": "stream",
          "name": "stdout",
          "text": [
            "Name            object\n",
            "Span            object\n",
            "Description     object\n",
            "Rating         float64\n",
            "dtype: object\n"
          ]
        }
      ]
    },
    {
      "cell_type": "code",
      "source": [
        "summary=df.describe()\n",
        "print(summary)"
      ],
      "metadata": {
        "id": "6WSQcSsp3avL",
        "colab": {
          "base_uri": "https://localhost:8080/"
        },
        "outputId": "d9d4b5c1-9440-4bbb-9967-fc85dcb0de82"
      },
      "execution_count": null,
      "outputs": [
        {
          "output_type": "stream",
          "name": "stdout",
          "text": [
            "           Rating\n",
            "count  100.000000\n",
            "mean     7.873000\n",
            "std      0.580466\n",
            "min      6.400000\n",
            "25%      7.500000\n",
            "50%      7.850000\n",
            "75%      8.300000\n",
            "max      9.300000\n"
          ]
        }
      ]
    }
  ]
}